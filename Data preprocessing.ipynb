{
 "cells": [
  {
   "cell_type": "code",
   "execution_count": null,
   "id": "726522e7",
   "metadata": {},
   "outputs": [],
   "source": [
    "import pandas as pd\n",
    "import numpy as np\n",
    "\n",
    "time_idx_df = pd.read_csv(\"./SCIENCE_5GC_IMS_0623_0627.csv\")\n",
    "\n",
    "time_idx_df['beginTime'] = pd.to_datetime(time_idx_df['beginTime'])\n",
    "\n",
    "time_idx_df = time_idx_df.sort_values(by='beginTime')\n",
    "\n",
    "\n",
    "column_name = 'measResult'\n",
    "\n",
    "column = time_idx_df.pop(column_name)\n",
    "\n",
    "time_idx_df.insert(len(time_idx_df.columns), column_name, column)\n",
    "\n",
    "print(time_idx_df.shape)\n",
    "\n",
    "groups = time_idx_df.groupby([\"elementType\",\"counterId\",\"elementIp\"])\n",
    "\n",
    "for (elementType, counter_id,elementIp), group_df in groups:\n",
    "\n",
    "    filename = f\"{elementType}_{counter_id}_{elementIp}.csv\"  \n",
    "\n",
    "    group_df.to_csv(filename, index=True)"
   ]
  }
 ],
 "metadata": {
  "kernelspec": {
   "display_name": "Python 3 (ipykernel)",
   "language": "python",
   "name": "python3"
  },
  "language_info": {
   "codemirror_mode": {
    "name": "ipython",
    "version": 3
   },
   "file_extension": ".py",
   "mimetype": "text/x-python",
   "name": "python",
   "nbconvert_exporter": "python",
   "pygments_lexer": "ipython3",
   "version": "3.7.13"
  }
 },
 "nbformat": 4,
 "nbformat_minor": 5
}
